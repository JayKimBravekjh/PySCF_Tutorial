{
 "cells": [
  {
   "cell_type": "code",
   "execution_count": null,
   "metadata": {
    "collapsed": true
   },
   "outputs": [],
   "source": [
    "from pyscf import mp"
   ]
  },
  {
   "cell_type": "code",
   "execution_count": null,
   "metadata": {
    "collapsed": true
   },
   "outputs": [],
   "source": [
    "pt2=mp.MP2(mf)\n",
    "\n",
    "pt2.frozen=0\n",
    "pt2.max_memory=8000\n",
    "pt2.verbose=10\n",
    "\n",
    "pt2.kernel()[0]\n",
    "\n",
    "#pt2.t2=\n",
    "#pt2.e_corr="
   ]
  },
  {
   "cell_type": "code",
   "execution_count": null,
   "metadata": {
    "collapsed": true
   },
   "outputs": [],
   "source": [
    "from pyscf import cc"
   ]
  },
  {
   "cell_type": "code",
   "execution_count": null,
   "metadata": {
    "collapsed": true
   },
   "outputs": [],
   "source": [
    "ccsd=cc.CCSD(mf)\n",
    "\n",
    "ccsd.frozen=0\n",
    "ccsd.max_memory=8000\n",
    "ccsd.verbose=10\n",
    "\n",
    "ccsd.kernel()[0]\n",
    "\n",
    "#ccsd.cc2=\n",
    "#ccsd.chkfile=\n",
    "#ccsd.conv_tol=\n",
    "#ccsd.conv_tol_normt=\n",
    "#ccsd.converged=\n",
    "#ccsd.converged_lambda=\n",
    "#ccsd.diis_file=\n",
    "#ccsd.diis_space=\n",
    "#ccsd.diis_start_cycle=\n",
    "#ccsd.diis_start_energy_diff=\n",
    "#ccsd.direct=\n",
    "#ccsd.e_corr=\n",
    "#ccsd.emp2=\n",
    "#ccsd.frozen=\n",
    "#ccsd.l1=\n",
    "#ccsd.l2=\n",
    "#ccsd.max_cycle=\n",
    "#ccsd.max_memory=\n",
    "#ccsd.mo_coeff=\n",
    "#ccsd.mo_occ=\n",
    "#ccsd.mol=\n",
    "#ccsd.stdout=\n",
    "#ccsd.t1=\n",
    "#ccsd.t2=\n",
    "#ccsd.verbose="
   ]
  }
 ],
 "metadata": {
  "kernelspec": {
   "display_name": "Python 2",
   "language": "python",
   "name": "python2"
  },
  "language_info": {
   "codemirror_mode": {
    "name": "ipython",
    "version": 2
   },
   "file_extension": ".py",
   "mimetype": "text/x-python",
   "name": "python",
   "nbconvert_exporter": "python",
   "pygments_lexer": "ipython2",
   "version": "2.7.12"
  }
 },
 "nbformat": 4,
 "nbformat_minor": 2
}

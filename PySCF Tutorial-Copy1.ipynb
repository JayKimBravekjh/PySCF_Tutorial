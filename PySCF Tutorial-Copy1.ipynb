{
 "cells": [
  {
   "cell_type": "markdown",
   "metadata": {},
   "source": [
    "Welcome to the PySCF tutorial!\n",
    "\n",
    "This component of the tutorial is primarily concerned with computational chemistry calculations and will not cover the theoretical details of the methods utilized [i.e., Hartree--Fock (HF), Kohn--Sham Density Functional Theory (KS-DFT), Møller–Plesset Peturbation Theory (MP), Coupled Cluster Theory (CC), etc.]. For specifics regarding these methods, please see [TODO].\n",
    "\n",
    "We will go through the steps necessary to carry out a variety of relevant calculations. These include:\n",
    "\n",
    "* Single Point Energies\n",
    "  * Ground State\n",
    "    1. atomization energies and bond dissociation energies\n",
    "    2. reaction energies\n",
    "    3. electron affinities, ionization potentials, and proton affinities (vertical and adiabatic)\n",
    "    4. isomerization (relative) energies\n",
    "    5. binding energies of non-covalent complexes (weak/hydrogen/rare-gas)\n",
    "    6. barrier heights\n",
    "  * Excited State (Time-Dependent)\n",
    "    1. TD-HF/TD-DFT\n",
    "    2. Wavefunction Stability Analysis\n",
    "    3. Visualization?\n",
    "\n",
    "* Forces and Geometry Optimizations\n",
    "  * Ground State\n",
    "      1. Force for equilibrium structure to show zeros\n",
    "      2. Force for non-eq\n",
    "      3. TS search\n",
    "      4. Geom opt\n",
    "  * Excited State (Time-Dependent)\n",
    "      1. can this be done?\n",
    "\n",
    "* Frequencies\n",
    "  * Ground State\n",
    "    1. vibrational modes\n",
    "    2. free-energy\n",
    "    3. Geometry optimization local minimum\n",
    "  * Excited State (Time-Dependent)\n",
    "    1. can this be done?\n",
    "\n",
    "Furthermore, we will demonstrate the effect of the most important computational settings on the final calculated results using a handful of the above interactions:\n",
    "  * Relevant Settings\n",
    "    1. basis set (minimal vs. double vs. triple. vs. quadruple vs. basis set limit) BSIE\n",
    "    2. DFT integration grid (coarse vs. fine, etc.)\n",
    "    3. method (HF/DFT/MP2/CC/etc.)\n",
    "    4. counterpoise corrections (which is an extension of basis set category) talk about BSIE/BSSE\n",
    "    5. integral threshes and convergence criteria\n",
    "    6. cart vs spherical?\n",
    "    7. restricted vs unrestricted"
   ]
  },
  {
   "cell_type": "markdown",
   "metadata": {},
   "source": [
    "---"
   ]
  },
  {
   "cell_type": "markdown",
   "metadata": {},
   "source": [
    "In order to get started, we need to import the pyscf module, which is accomplished by the command in the cell below. If this command fails, please see the [quick setup guide](http://sunqm.github.io/pyscf/tutorial.html#quick-setup) or the [detailed installation instructions](http://sunqm.github.io/pyscf/install.html)."
   ]
  },
  {
   "cell_type": "code",
   "execution_count": 1,
   "metadata": {
    "collapsed": true
   },
   "outputs": [],
   "source": [
    "import pyscf"
   ]
  },
  {
   "cell_type": "markdown",
   "metadata": {},
   "source": [
    "The next step is to define the molecule, which requires importing the gto (gaussian type orbital) submodule:"
   ]
  },
  {
   "cell_type": "code",
   "execution_count": 2,
   "metadata": {
    "collapsed": true
   },
   "outputs": [],
   "source": [
    "from pyscf import gto"
   ]
  },
  {
   "cell_type": "markdown",
   "metadata": {},
   "source": [
    "# gto.Mole object\n",
    "\n",
    "This Markdown cell will go through the steps involved in setting up a molecule, including a description of the eight most important attributes. The following Code cell combines the content explained here into a useful sample input. The more advanced attributes are listed (commented) at the bottom of the code cell and the expert user can find more information about them [here](http://sunqm.github.io/pyscf/gto.html).\n",
    "\n",
    "The molecule used in this demonstration is the water dimer (two hydrogen-bonded water molecules) from the widely-used S22 dataset of non-covalent interactions, and can be found [here](http://www.begdb.com/index.php?action=oneMolecule&state=show&id=82). The molecule is pictured here:\n",
    "\n",
    "<img style=\"float: left;\" src=\"images/water_dimer.jpg\"><br clear=\"all\" />\n",
    "\n",
    "The first step is to create the molecule object:\n",
    "```\n",
    "mol=gto.Mole()\n",
    "```\n",
    "\n",
    "## atom attribute\n",
    "\n",
    "PySCF allows for a variety of [molecular input formats](http://sunqm.github.io/pyscf/gto.html#geometry), but the one that is most suitable for the current example is the use of triple-quotes. This allows one to simply copy and paste the geometry from the BEGDB website without further modification:\n",
    "```\n",
    "mol.atom=\"\"\"\n",
    "O  -1.551007  -0.114520   0.000000\n",
    "H  -1.934259   0.762503   0.000000\n",
    "H  -0.599677   0.040712   0.000000\n",
    "O   1.350625   0.111469   0.000000\n",
    "H   1.680398  -0.373741  -0.758561\n",
    "H   1.680398  -0.373741   0.758561\"\"\"\n",
    "```\n",
    "Another useful way to set up a molecule is to read the coordinates from an existing file. The file can either be an XYZ (see geom/water_dimer.xyz), contain only the coordinates (see geom/water_dimer.mol), or contain the coordinates prepended by a line containing the charge and spin separated by a space (see geom/water_dimer.qc). As long as the file is in one of the three aforementioned formats, PySCF can automatically detect and parse the file. Reading in a molecule file can be accomplished via:\n",
    "```\n",
    "mol.atom=read_file('water_dimer.mol')\n",
    "```\n",
    "\n",
    "## basis attribute\n",
    "\n",
    "The simplest way to set up the basis is to specify the same basis set for all atoms:\n",
    "```\n",
    "mol.basis='aug-cc-pVDZ'\n",
    "```\n",
    "In this case, the aug-cc-pVDZ basis set is used for all of the hydrogen and oxygen atoms.\n",
    "\n",
    "Alternatively, one can use a different basis set for different elements:\n",
    "```\n",
    "mol.basis={'H': 'cc-pVDZ', 'O': 'aug-cc-pVDZ'}\n",
    "```\n",
    "In this case, the cc-pVDZ basis set is used for all of the hydrogen atoms, while the aug-cc-pVDZ basis set is used for all of the oxygen atoms.\n",
    "\n",
    "One can also use different basis sets for different atoms of the same element by labeling the atoms with integers:\n",
    "```\n",
    "mol.atom=\"\"\"\n",
    "O1  -1.551007  -0.114520   0.000000\n",
    "H2  -1.934259   0.762503   0.000000\n",
    "H3  -0.599677   0.040712   0.000000\n",
    "O4   1.350625   0.111469   0.000000\n",
    "H5   1.680398  -0.373741  -0.758561\n",
    "H6   1.680398  -0.373741   0.758561\"\"\"\n",
    "mol.basis={'O1': 'cc-pVDZ', 'H2': 'cc-pVDZ', 'H3': 'aug-cc-pVDZ', 'O4': 'aug-cc-pVDZ', 'H5': 'cc-pVDZ', 'H6': 'cc-pVDZ'}\n",
    "```\n",
    "In this case, the cc-pVDZ basis set is used for all of the atoms except for those involved in the hydrogen bond (H3 and O4). The diffuse aug-cc-pVDZ basis set is used in this case.\n",
    "\n",
    "Finally, one common way of reducing basis set superposition error (BSSE) is to use counterpoise corrections by employing ghost functions on ghost atoms. A useful guide to BSSE can be found [here](http://vergil.chemistry.gatech.edu/notes/cp.pdf). In PySCF, counterpoise corrections can be applied via simple modifications to the atom and basis attributes.\n",
    "\n",
    "For example, running the water dimer calculation with ghost functions on the second water monomer can be accomplished via:\n",
    "```\n",
    "mol.atom=\"\"\"\n",
    "O  -1.551007  -0.114520   0.000000\n",
    "H  -1.934259   0.762503   0.000000\n",
    "H  -0.599677   0.040712   0.000000\n",
    "GhostO   1.350625   0.111469   0.000000\n",
    "GhostH   1.680398  -0.373741  -0.758561\n",
    "GhostH   1.680398  -0.373741   0.758561\"\"\"\n",
    "mol.basis={'H': 'aug-cc-pVDZ', 'O': 'aug-cc-pVDZ', 'GhostH': gto.basis.load('aug-cc-pVDZ','H'), 'GhostO': gto.basis.load('aug-cc-pVDZ','O')}\n",
    "```\n",
    "\n",
    "Advanced users who are interested in using custom basis sets or basis sets that not pre-defined in PySCF are directed [here](http://sunqm.github.io/pyscf/gto.html#input-basis). Useful resources for the latter include the [EMSL basis set exchange](https://bse.pnl.gov/bse/portal) and the [PSI4 basis set page](http://www.psicode.org/psi4manual/master/basissets_byfamily.html). PySCF can parse both NWChem and Gaussian94 format basis set files. Additionally, PySCF can read a file containing the desired basis set.\n",
    "\n",
    "## cart attribute\n",
    "\n",
    "The cart attribute determines whether the d and/or higher basis functions are taken to be *spherical* (i.e., d=5 functions, f=7 functions, g=9 functions, etc.) or *Cartesian* (i.e., d=6 functions, f=10 functions, g=15 functions, etc.). mol.cart=0 (default) specifices *spherical* functions and mol.cart=1 specifies *Cartesian* functions. If an existing basis set in PySCF is being used, the cart attribute is automatically set based on how the basis set itself was optimized. Thus, it is not necessary to define this attribute for most calculations.\n",
    "\n",
    "There are two instances where specifying mol.cart is necessary, and this will pertain primarily to more advanced users:\n",
    "\n",
    "1.  If either a custom basis set is being used or one that is not pre-defined in PySCF, it is important to determine the appropriate value of mol.cart and set it accordingly. For example, the [UGBS basis set](https://aip.scitation.org/doi/abs/10.1063/1.475959) is commonly used to determine absolute atomic energies. This basis set was optimized for use with spherical basis functions. Since UGBS is not pre-defined in PySCF, it is important to set mol.cart=0.\n",
    "\n",
    "2.  If the user is interested in experimenting with the effect of using spherical vs. Cartesian functions for a given basis set, it is possible to override the default for pre-defined basis sets. For example, the Dunning basis sets (cc-pVXZ and aug-cc-pVXZ) are meant to be used with spherical functions (mol.cart=0), yet one can set mol.cart=1 to gauge the sensitivity of absolute and relative energies to this setting.\n",
    "\n",
    "## charge attribute\n",
    "\n",
    "The charge attribute sets the charge of the molecule, and is 0 for neutral systems (default), 1 for cations, 2 for dications, -1 for anions, -2 for dianions, etc.\n",
    "\n",
    "## ecp attribute\n",
    "\n",
    "When heavy elements are present in a molecule, standard Gaussian basis sets are oftentimes both insufficient (because they are unable to capture relativistic effects that are in heavier elements) and impractical (because as one descends the rows of the periodic table, Gaussian basis sets tend to become very large and heavily-contracted due to the increased number of electrons). For this reason, a great deal of work has been devoted to developing effective core potentials (ECP) which replace core electrons around a nucleus by pseudopotentials.\n",
    "\n",
    "## spin attribute\n",
    "\n",
    "The spin attribute simply sets the number of unpaired electrons. By default, a closed-shell system is assumed and the value of mol.spin=0. For open-shell systems, the spin must be set. For example, boron has a single unpaired electron, so mol.spin=1. Carbon has two unpaired electrons, so mol.spin=2. And finally, nitrogen has three unpaired electrons, so mol.spin=3. The same concept applies to open-shell molecules.\n",
    "\n",
    "## unit attribute\n",
    "\n",
    "The unit attribute can be either set to 'Angstrom' (default) or 'Bohr'. This entirely depends on the coordinates specified in mol.atom.\n",
    "\n",
    "## verbose attribute\n",
    "\n",
    "The verbose attribute controls the print level for the Mole object. Setting mol.verbose=0 will print little to no information, while setting mol.verbose=4 prints useful information about the basis and number of basis functions. Users who want to see detailed information should set mol.verbose=10.\n",
    "\n",
    "The final step is to build the molecule object:\n",
    "```\n",
    "mol.build()\n",
    "```"
   ]
  },
  {
   "cell_type": "code",
   "execution_count": 3,
   "metadata": {},
   "outputs": [
    {
     "name": "stdout",
     "output_type": "stream",
     "text": [
      "System: ('Linux', 'gund', '4.13.0-36-generic', '#40~16.04.1-Ubuntu SMP Fri Feb 16 23:25:58 UTC 2018', 'x86_64', 'x86_64')  Threads 1\n",
      "Python 2.7.12 (default, Nov 20 2017, 18:23:56) \n",
      "[GCC 5.4.0 20160609]\n",
      "numpy 1.12.1  scipy 0.19.0\n",
      "Date: Thu Mar  8 22:04:32 2018\n",
      "PySCF version 1.4.2\n",
      "PySCF path  /home/narbe/pyscf/pyscf\n",
      "GIT ORIG_HEAD e02cd77709ad27dd6f216c61695ac08626be4f4e\n",
      "GIT HEAD      ref: refs/heads/dev\n",
      "GIT dev branch  1520d69620cbf726e21f732f9c78f5e8057c8b03\n",
      "\n",
      "[INPUT] VERBOSE 4\n",
      "[INPUT] num atoms = 6\n",
      "[INPUT] num electrons = 20\n",
      "[INPUT] charge = 0\n",
      "[INPUT] spin (= nelec alpha-beta = 2S) = 0\n",
      "[INPUT] symmetry False subgroup None\n",
      "[INPUT]  1 O     -1.551007000000  -0.114520000000   0.000000000000 AA   -2.930978447283  -0.216411435785   0.000000000000 Bohr\n",
      "[INPUT]  2 H     -1.934259000000   0.762503000000   0.000000000000 AA   -3.655219763975   1.440921839159   0.000000000000 Bohr\n",
      "[INPUT]  3 H     -0.599677000000   0.040712000000   0.000000000000 AA   -1.133225293201   0.076934529983   0.000000000000 Bohr\n",
      "[INPUT]  4 O      1.350625000000   0.111469000000   0.000000000000 AA    2.552311346991   0.210645881379   0.000000000000 Bohr\n",
      "[INPUT]  5 H      1.680398000000  -0.373741000000  -0.758561000000 AA    3.175492000267  -0.706268131521  -1.433472538776 Bohr\n",
      "[INPUT]  6 H      1.680398000000  -0.373741000000   0.758561000000 AA    3.175492000267  -0.706268131521   1.433472538776 Bohr\n",
      "[INPUT] ---------------- BASIS SET ---------------- \n",
      "[INPUT] l, kappa, [nprim/nctr], expnt,             c_1 c_2 ...\n",
      "[INPUT] H\n",
      "[INPUT] 0    0    [3    /1   ]  13.01             0.019685\n",
      "                                1.962             0.137977\n",
      "                                0.4446            0.478148\n",
      "[INPUT] 0    0    [1    /1   ]  0.122                1\n",
      "[INPUT] 0    0    [1    /1   ]  0.02974              1\n",
      "[INPUT] 1    0    [1    /1   ]  0.727                1\n",
      "[INPUT] 1    0    [1    /1   ]  0.141                1\n",
      "[INPUT] O\n",
      "[INPUT] 0    0    [8    /2   ]  11720             0.00071 -0.00016\n",
      "                                1759              0.00547 -0.001263\n",
      "                                400.8             0.027837 -0.006267\n",
      "                                113.7             0.1048 -0.025716\n",
      "                                37.03             0.283062 -0.070924\n",
      "                                13.27             0.448719 -0.165411\n",
      "                                5.025             0.270952 -0.116955\n",
      "                                1.013             0.015458 0.557368\n",
      "[INPUT] 0    0    [1    /1   ]  0.3023               1\n",
      "[INPUT] 0    0    [1    /1   ]  0.07896              1\n",
      "[INPUT] 1    0    [3    /1   ]  17.7              0.043018\n",
      "                                3.854             0.228913\n",
      "                                1.046             0.508728\n",
      "[INPUT] 1    0    [1    /1   ]  0.2753               1\n",
      "[INPUT] 1    0    [1    /1   ]  0.06856              1\n",
      "[INPUT] 2    0    [1    /1   ]  1.185                1\n",
      "[INPUT] 2    0    [1    /1   ]  0.332                1\n",
      "nuclear repulsion = 36.6628480141841\n",
      "number of shells = 36\n",
      "number of NR pGTOs = 114\n",
      "number of NR cGTOs = 82\n",
      "basis = aug-cc-pVDZ\n",
      "ecp = {}\n",
      "CPU time:         0.75\n"
     ]
    },
    {
     "name": "stderr",
     "output_type": "stream",
     "text": [
      "Warn: Ipython shell catchs sys.args\n"
     ]
    },
    {
     "data": {
      "text/plain": [
       "<pyscf.gto.mole.Mole at 0x7f033f9646d0>"
      ]
     },
     "execution_count": 3,
     "metadata": {},
     "output_type": "execute_result"
    }
   ],
   "source": [
    "#The code below combines the content introduced in the Markdown cell above into a useable input.\n",
    "\n",
    "mol=gto.Mole()\n",
    "\n",
    "mol.atom=\"\"\"\n",
    "O  -1.551007  -0.114520   0.000000\n",
    "H  -1.934259   0.762503   0.000000\n",
    "H  -0.599677   0.040712   0.000000\n",
    "O   1.350625   0.111469   0.000000\n",
    "H   1.680398  -0.373741  -0.758561\n",
    "H   1.680398  -0.373741   0.758561\"\"\"\n",
    "mol.basis='aug-cc-pVDZ'\n",
    "mol.cart=False\n",
    "mol.charge=0\n",
    "mol.ecp={}\n",
    "mol.spin=0\n",
    "mol.unit='Angstrom'\n",
    "mol.verbose=4\n",
    "\n",
    "mol.build()\n",
    "\n",
    "#ADVANCED ATTRIBUTES -- SEE MANUAL\n",
    "#mol.groupname=\n",
    "#mol.incore_anyway=\n",
    "#mol.irrep_id=\n",
    "#mol.irrep_name=\n",
    "#mol.max_memory=\n",
    "#mol.nucmod=\n",
    "#mol.output=\n",
    "#mol.symm_orb=\n",
    "#mol.symmetry=\n",
    "#mol.symmetry_subgroup=\n",
    "#mol.topgroup="
   ]
  },
  {
   "cell_type": "markdown",
   "metadata": {},
   "source": [
    "---"
   ]
  },
  {
   "cell_type": "markdown",
   "metadata": {},
   "source": [
    "After the molecule has been built, it is necessary to follow a similar procedure to initialize the SCF object [Hartree--Fock (HF) or Kohn-Sham Density Functional Theory (KS-DFT)]. For most users, the relevant SCF classes will be RHF (Restricted Hartree--Fock), UHF (Unrestricted Hartree--Fock), RKS (Restricted Kohn--Sham), and UKS (Unrestricted Kohn--Sham). RHF and RKS can also be used to run ROHF (Restricted Open-Shell Hartree--Fock) and ROKS (Restricted Open-Shell Kohn--Sham) as long as an open-shell molecule is defined.\n",
    "\n",
    "An overview of how to use an SCF class will be demonstrated with RHF.\n",
    "\n",
    "In order to create an SCF object, it is necessary to import the scf (self-consistent field) submodule:"
   ]
  },
  {
   "cell_type": "code",
   "execution_count": 4,
   "metadata": {
    "collapsed": true
   },
   "outputs": [],
   "source": [
    "from pyscf import scf"
   ]
  },
  {
   "cell_type": "markdown",
   "metadata": {},
   "source": [
    "# scf.RHF object\n",
    "\n",
    "The first step is to create the method object (RHF in this case):\n",
    "```\n",
    "mf=scf.RHF(mol)\n",
    "```\n",
    "In this example, the object is name mf (mean-field). The input object is the molecule (mol) that was discussed previously.\n",
    "Note: The name for the mean-field object can be set to anything the user desires (e.g., ```calc=scf.RHF(mol)```).\n",
    "\n",
    "## conv_tol attribute\n",
    "In order for an SCF calculation to converge, PySCF requires two criteria to be met. The first is controlled by the conv_tol attribute, namely the difference in the SCF energy between two sucessive cycles. \n",
    "\n",
    "## conv_tol_grad attribute\n",
    "The second criterion for convergence is the conv_tol_grad attribute, namely, the root-mean-square of the orbital gradient. This is a vector of length nocc\\*nvirt.\n",
    "\n",
    "\n",
    "## direct_scf_tol attribute\n",
    "The direct_scf_tol attribute is the integral thresh.\n",
    "\n",
    "\n",
    "## init_guess attribute\n",
    "A good initial guess is vital for an efficient SCF procedure. There are four initial guess options in PySCF:\n",
    "1. minao\n",
    "2. atom\n",
    "3. 1e\n",
    "4. chkfile\n",
    "\n",
    "The first option (```mf.init_guess='minao'```) is the default option and generates an initial guess for the density matrix based on the ANO basis, and then projects this onto the basis set specified in ```mol.basis```.\n",
    "\n",
    "The second option (```mf.init_guess='atom'```) generates and initial guess based on a superposition of atomic densities.\n",
    "\n",
    "The third option (```mf.init_guess='1e'```) sets the initial density matrix, P=0.\n",
    "\n",
    "The last option (```mf.init_guess='chkfile'```) is somewhat advanced and can read in an existing density matrix from disk. Further information on this option can be found [here](http://sunqm.github.io/pyscf/scf.html#pyscf.scf.hf.SCF.init_guess_by_chkfile).\n",
    "\n",
    "## max_cycle attribute\n",
    "The max_cycle attribute simply sets the maximum number of SCF cycles that should be carried out before the calculation terminates. The default value is 50, but for systems that are notoriously difficult to converge, the value should be increased to 100 or even 1000.\n",
    "\n",
    "\n",
    "## max_memory attribute\n",
    "The max_memory attribute determines the maximum amount of memory that PySCF is allowed to utilize during the SCF procedure. This should be set by the user based on the memory limitations of the computer/server utilized.\n",
    "\n",
    "## verbose attribute\n",
    "The verbose attribute controls the print level for the RHF object. Setting mol.verbose=0 will print only the SCF energy, while setting mol.verbose=4 prints useful information about SCF settings as well as the SCF energy per iteration, HOMO/LUMO energies, and convergence metris. Users who want to see detailed information should set mol.verbose=10, which provides additional information such as molecular orbital energies.\n",
    "\n",
    "The final step is to run the SCF calculation:\n",
    "```\n",
    "mf.kernel()\n",
    "```"
   ]
  },
  {
   "cell_type": "code",
   "execution_count": 16,
   "metadata": {},
   "outputs": [
    {
     "data": {
      "text/plain": [
       "-152.08859934750342"
      ]
     },
     "execution_count": 16,
     "metadata": {},
     "output_type": "execute_result"
    }
   ],
   "source": [
    "mf=scf.RHF(mol)\n",
    "\n",
    "mf.conv_tol=1e-12\n",
    "mf.conv_tol_grad=1e-8\n",
    "mf.direct_scf_tol=1e-13\n",
    "mf.init_guess='1e'\n",
    "mf.max_cycle=100\n",
    "mf.max_memory=8000\n",
    "mf.verbose=0\n",
    "\n",
    "mf.kernel()\n",
    "\n",
    "#ADVANCED ATTRIBUTES -- SEE MANUAL\n",
    "#mf.chkfile=\n",
    "#mf.conv_check=\n",
    "#mf.damp=\n",
    "#mf.diis=\n",
    "#mf.diis_file=\n",
    "#mf.diis_space=\n",
    "#mf.diis_space_rollback=\n",
    "#mf.diis_start_cycle=\n",
    "#mf.direct_scf=\n",
    "#mf.level_shift="
   ]
  },
  {
   "cell_type": "markdown",
   "metadata": {},
   "source": [
    "---"
   ]
  },
  {
   "cell_type": "markdown",
   "metadata": {},
   "source": [
    "In order to run an unrestricted Hartree--Fock calculation, the steps taken above can be followed, except the initial object should be initiated as:\n",
    "```\n",
    "mf=scf.UHF(mol)\n",
    "```"
   ]
  },
  {
   "cell_type": "markdown",
   "metadata": {},
   "source": [
    "Density "
   ]
  },
  {
   "cell_type": "code",
   "execution_count": 6,
   "metadata": {
    "collapsed": true
   },
   "outputs": [],
   "source": [
    "#TODO\n",
    "#bare minimum is: atom, basis, w/o it should crash\n",
    "#allow mol.atom to take something like @H or !H or something to indicate Ghost\n",
    "#mol.cart needs to be set based on the basis set\n",
    "#be able to read mol.atom from any file, and the file can either be just the XYZ, be an actual XYZ, or be q-chem-like\n",
    "#one should just be able to copy and paste from an XYZ w/o the ;. that is not commonly or ever present\n",
    "#D3 HAS to be implemented, and VV10 sped up, and maybe D2 D3(BJ) and all that new shit etc\n",
    "#what about fragment monomoners?\n",
    "#just specify a single basis for everything: mol.basis={'aug-cc-pVDZ'}\n",
    "#be able to take input of Gaussian94 basis\n",
    "#be able to read basis from file on disk\n",
    "#maybe for mol.cart instead of 0 and 1, do spherical and Cartesian\n",
    "#there should be a verbose level for Mole that doesn't print bais set coeffs and stff\n",
    "#lin dep should be automatically removed!!!\n",
    "#shouldn't extra cycle for SCF (conv_check) only be initiated IF there is a level shift??\n",
    "#some properties should be computed for free and by default -- atomic charges, S^2, multipole moments\n",
    "#stability analysis / diis/gdm\n",
    "#should we be using the norm of the orbital gradient for convergence of the rms\n",
    "#printing HOMO/LUMO on each cycle is unnecessary or at least we should be able to turn it off\n",
    "#we should print like orbital energies at end, split into occ and virt\n",
    "#what exactly is this minao guess?"
   ]
  },
  {
   "cell_type": "code",
   "execution_count": null,
   "metadata": {
    "collapsed": true
   },
   "outputs": [],
   "source": []
  }
 ],
 "metadata": {
  "kernelspec": {
   "display_name": "Python 2",
   "language": "python",
   "name": "python2"
  },
  "language_info": {
   "codemirror_mode": {
    "name": "ipython",
    "version": 2
   },
   "file_extension": ".py",
   "mimetype": "text/x-python",
   "name": "python",
   "nbconvert_exporter": "python",
   "pygments_lexer": "ipython2",
   "version": "2.7.12"
  }
 },
 "nbformat": 4,
 "nbformat_minor": 2
}

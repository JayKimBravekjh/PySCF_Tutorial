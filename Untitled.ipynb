{
 "cells": [
  {
   "cell_type": "code",
   "execution_count": 1,
   "metadata": {},
   "outputs": [
    {
     "data": {
      "text/plain": [
       "-75.414428363300146"
      ]
     },
     "execution_count": 1,
     "metadata": {},
     "output_type": "execute_result"
    }
   ],
   "source": [
    "import pyscf\n",
    "import numpy\n",
    "from pyscf import gto,scf\n",
    "\n",
    "mol=gto.Mole()\n",
    "\n",
    "mol.atom=\"\"\"\n",
    "O       0.0000000000     0.0000000000     0.0000000000\n",
    "H       0.0000000000     0.0000000000     0.9706601900\n",
    "\"\"\"\n",
    "mol.basis='cc-pVTZ'\n",
    "mol.cart=False\n",
    "mol.charge=0\n",
    "mol.ecp={}\n",
    "mol.spin=1\n",
    "mol.unit='Angstrom'\n",
    "mol.verbose=0\n",
    "\n",
    "mol.build()\n",
    "\n",
    "mf=scf.RHF(mol)\n",
    "\n",
    "mf.conv_tol=1e-12\n",
    "mf.conv_tol_grad=1e-8\n",
    "mf.direct_scf_tol=1e-13\n",
    "mf.init_guess='1e'\n",
    "mf.max_cycle=100\n",
    "mf.max_memory=8000\n",
    "mf.verbose=0\n",
    "\n",
    "mf.kernel()"
   ]
  },
  {
   "cell_type": "code",
   "execution_count": 2,
   "metadata": {
    "scrolled": true
   },
   "outputs": [
    {
     "name": "stdout",
     "output_type": "stream",
     "text": [
      "Dipole moment(X, Y, Z, Debye): -0.00000, -0.00000,  1.78812\n"
     ]
    },
    {
     "data": {
      "text/plain": [
       "array([ -3.99479062e-15,  -7.84749205e-15,   1.78811633e+00])"
      ]
     },
     "execution_count": 2,
     "metadata": {},
     "output_type": "execute_result"
    }
   ],
   "source": [
    "scf.uhf.dip_moment(mol,mf.make_rdm1())"
   ]
  },
  {
   "cell_type": "code",
   "execution_count": 3,
   "metadata": {},
   "outputs": [
    {
     "data": {
      "text/plain": [
       "(7.1054273576010019e-15, 1.0000000000000142)"
      ]
     },
     "execution_count": 3,
     "metadata": {},
     "output_type": "execute_result"
    }
   ],
   "source": [
    "scf.uhf.spin_square((mf.mo_coeff[:,mf.mo_occ>0],mf.mo_coeff[:,mf.mo_occ>0]),mf.get_ovlp())"
   ]
  },
  {
   "cell_type": "code",
   "execution_count": 4,
   "metadata": {},
   "outputs": [
    {
     "data": {
      "text/plain": [
       "array([-0.34757223,  0.34757223])"
      ]
     },
     "execution_count": 4,
     "metadata": {},
     "output_type": "execute_result"
    }
   ],
   "source": [
    "mf.mulliken_meta(verbose=0)[1]"
   ]
  },
  {
   "cell_type": "code",
   "execution_count": 5,
   "metadata": {},
   "outputs": [
    {
     "data": {
      "text/plain": [
       "array([-0.25422653,  0.25422653])"
      ]
     },
     "execution_count": 5,
     "metadata": {},
     "output_type": "execute_result"
    }
   ],
   "source": [
    "mf.mulliken_pop(verbose=0)[1]"
   ]
  },
  {
   "cell_type": "code",
   "execution_count": null,
   "metadata": {
    "collapsed": true
   },
   "outputs": [],
   "source": []
  },
  {
   "cell_type": "code",
   "execution_count": 6,
   "metadata": {},
   "outputs": [
    {
     "data": {
      "text/plain": [
       "-75.41922574145255"
      ]
     },
     "execution_count": 6,
     "metadata": {},
     "output_type": "execute_result"
    }
   ],
   "source": [
    "import pyscf\n",
    "import numpy\n",
    "from pyscf import gto,scf\n",
    "\n",
    "mol=gto.Mole()\n",
    "\n",
    "mol.atom=\"\"\"\n",
    "O       0.0000000000     0.0000000000     0.0000000000\n",
    "H       0.0000000000     0.0000000000     0.9706601900\n",
    "\"\"\"\n",
    "mol.basis='cc-pVTZ'\n",
    "mol.cart=False\n",
    "mol.charge=0\n",
    "mol.ecp={}\n",
    "mol.spin=1\n",
    "mol.unit='Angstrom'\n",
    "mol.verbose=0\n",
    "\n",
    "mol.build()\n",
    "\n",
    "mf=scf.UHF(mol)\n",
    "\n",
    "mf.conv_tol=1e-12\n",
    "mf.conv_tol_grad=1e-8\n",
    "mf.direct_scf_tol=1e-13\n",
    "mf.init_guess='1e'\n",
    "mf.max_cycle=100\n",
    "mf.max_memory=8000\n",
    "mf.verbose=0\n",
    "\n",
    "mf.kernel()"
   ]
  },
  {
   "cell_type": "code",
   "execution_count": 7,
   "metadata": {},
   "outputs": [
    {
     "name": "stdout",
     "output_type": "stream",
     "text": [
      "Dipole moment(X, Y, Z, Debye):  0.00000, -0.00000,  1.78721\n"
     ]
    },
    {
     "data": {
      "text/plain": [
       "array([  3.88048411e-15,  -5.66171308e-15,   1.78721196e+00])"
      ]
     },
     "execution_count": 7,
     "metadata": {},
     "output_type": "execute_result"
    }
   ],
   "source": [
    "scf.uhf.dip_moment(mol,mf.make_rdm1())"
   ]
  },
  {
   "cell_type": "code",
   "execution_count": 8,
   "metadata": {
    "scrolled": true
   },
   "outputs": [
    {
     "data": {
      "text/plain": [
       "(0.75606098537886979, 2.0060518292196439)"
      ]
     },
     "execution_count": 8,
     "metadata": {},
     "output_type": "execute_result"
    }
   ],
   "source": [
    "mf.spin_square()"
   ]
  },
  {
   "cell_type": "code",
   "execution_count": 9,
   "metadata": {},
   "outputs": [
    {
     "data": {
      "text/plain": [
       "array([-0.34606321,  0.34606321])"
      ]
     },
     "execution_count": 9,
     "metadata": {},
     "output_type": "execute_result"
    }
   ],
   "source": [
    "mf.mulliken_meta(verbose=0)[1]"
   ]
  },
  {
   "cell_type": "code",
   "execution_count": 10,
   "metadata": {},
   "outputs": [
    {
     "data": {
      "text/plain": [
       "array([-0.25245498,  0.25245498])"
      ]
     },
     "execution_count": 10,
     "metadata": {},
     "output_type": "execute_result"
    }
   ],
   "source": [
    "mf.mulliken_pop(verbose=0)[1]"
   ]
  },
  {
   "cell_type": "code",
   "execution_count": null,
   "metadata": {
    "collapsed": true
   },
   "outputs": [],
   "source": []
  },
  {
   "cell_type": "code",
   "execution_count": 11,
   "metadata": {
    "collapsed": true
   },
   "outputs": [],
   "source": [
    "import pyscf\n",
    "import numpy\n",
    "from pyscf import gto,scf\n",
    "\n",
    "mol=gto.Mole()\n",
    "\n",
    "mol.atom=\"\"\"\n",
    "H       0.0000000000     0.0000000000     0.0000000000\n",
    "H       0.0000000000     0.0000000000     0.9706601900\n",
    "\"\"\"\n",
    "mol.basis='cc-pVTZ'\n",
    "mol.cart=False\n",
    "mol.charge=0\n",
    "mol.ecp={}\n",
    "mol.spin=0\n",
    "mol.unit='Angstrom'\n",
    "mol.verbose=0\n",
    "\n",
    "mol.build()\n",
    "\n",
    "mf=scf.RKS(mol)"
   ]
  },
  {
   "cell_type": "code",
   "execution_count": 21,
   "metadata": {},
   "outputs": [
    {
     "data": {
      "text/plain": [
       "{'_keys': {'atom_grid',\n",
       "  'atomic_radii',\n",
       "  'becke_scheme',\n",
       "  'coords',\n",
       "  'level',\n",
       "  'mol',\n",
       "  'non0tab',\n",
       "  'prune',\n",
       "  'radi_method',\n",
       "  'radii_adjust',\n",
       "  'stdout',\n",
       "  'symmetry',\n",
       "  'verbose',\n",
       "  'weights'},\n",
       " 'atom_grid': {},\n",
       " 'atomic_radii': array([ 0.        ,  0.66140414,  2.64561657,  2.74010288,  1.98421243,\n",
       "         1.60626721,  1.32280829,  1.22832198,  1.13383567,  0.94486306,\n",
       "         2.83458919,  3.40150702,  2.83458919,  2.36215766,  2.07869874,\n",
       "         1.88972612,  1.88972612,  1.88972612,  3.40150702,  4.15739747,\n",
       "         3.40150702,  3.0235618 ,  2.64561657,  2.55113027,  2.64561657,\n",
       "         2.64561657,  2.64561657,  2.55113027,  2.55113027,  2.55113027,\n",
       "         2.55113027,  2.45664396,  2.36215766,  2.17318504,  2.17318504,\n",
       "         2.17318504,  3.59047964,  4.44085639,  3.77945225,  3.40150702,\n",
       "         2.92907549,  2.74010288,  2.74010288,  2.55113027,  2.45664396,\n",
       "         2.55113027,  2.64561657,  3.0235618 ,  2.92907549,  2.92907549,\n",
       "         2.74010288,  2.74010288,  2.64561657,  2.64561657,  3.96842486,\n",
       "         4.91328792,  4.06291117,  3.68496594,  3.49599333,  3.49599333,\n",
       "         3.49599333,  3.49599333,  3.49599333,  3.49599333,  3.40150702,\n",
       "         3.30702072,  3.30702072,  3.30702072,  3.30702072,  3.30702072,\n",
       "         3.30702072,  3.30702072,  2.92907549,  2.74010288,  2.55113027,\n",
       "         2.55113027,  2.45664396,  2.55113027,  2.55113027,  2.55113027,\n",
       "         2.83458919,  3.59047964,  3.40150702,  3.0235618 ,  3.59047964,\n",
       "         2.74010288,  3.96842486,  3.40150702,  4.06291117,  3.68496594,\n",
       "         3.40150702,  3.40150702,  3.30702072,  3.30702072,  3.30702072,\n",
       "         3.30702072,  3.30702072,  3.30702072,  3.30702072,  3.30702072,\n",
       "         3.30702072,  3.30702072,  3.30702072,  3.30702072,  3.30702072,\n",
       "         3.30702072,  3.30702072,  3.30702072,  3.30702072,  3.30702072,\n",
       "         3.30702072,  3.30702072,  3.30702072,  3.30702072,  3.30702072,\n",
       "         3.30702072,  3.30702072,  3.30702072,  3.30702072,  3.30702072,\n",
       "         3.30702072,  3.30702072,  3.30702072,  3.30702072,  3.30702072,\n",
       "         3.30702072,  3.30702072,  3.30702072,  3.30702072,  3.30702072,\n",
       "         3.30702072]),\n",
       " 'becke_scheme': <function pyscf.dft.gen_grid.original_becke>,\n",
       " 'coords': None,\n",
       " 'level': 3,\n",
       " 'mol': <pyscf.gto.mole.Mole at 0x7f789f891e90>,\n",
       " 'non0tab': None,\n",
       " 'prune': <function pyscf.dft.gen_grid.nwchem_prune>,\n",
       " 'radi_method': <function pyscf.dft.radi.treutler_ahlrichs>,\n",
       " 'radii_adjust': <function pyscf.dft.radi.treutler_atomic_radii_adjust>,\n",
       " 'stdout': <ipykernel.iostream.OutStream at 0x7f78d3fd29d0>,\n",
       " 'symmetry': False,\n",
       " 'verbose': 0,\n",
       " 'weights': None}"
      ]
     },
     "execution_count": 21,
     "metadata": {},
     "output_type": "execute_result"
    }
   ],
   "source": [
    "mf.grids.__dict__"
   ]
  },
  {
   "cell_type": "code",
   "execution_count": null,
   "metadata": {
    "collapsed": true
   },
   "outputs": [],
   "source": []
  },
  {
   "cell_type": "code",
   "execution_count": 2,
   "metadata": {},
   "outputs": [
    {
     "ename": "KeyboardInterrupt",
     "evalue": "",
     "output_type": "error",
     "traceback": [
      "\u001b[0;31m---------------------------------------------------------------------------\u001b[0m",
      "\u001b[0;31mKeyboardInterrupt\u001b[0m                         Traceback (most recent call last)",
      "\u001b[0;32m<ipython-input-2-af9b34d70145>\u001b[0m in \u001b[0;36m<module>\u001b[0;34m()\u001b[0m\n\u001b[1;32m     32\u001b[0m \u001b[0mmf\u001b[0m\u001b[0;34m.\u001b[0m\u001b[0mgrids\u001b[0m\u001b[0;34m.\u001b[0m\u001b[0matom_grid\u001b[0m\u001b[0;34m=\u001b[0m\u001b[0;34m{\u001b[0m\u001b[0;34m'H'\u001b[0m\u001b[0;34m:\u001b[0m \u001b[0;34m(\u001b[0m\u001b[0;36m500\u001b[0m\u001b[0;34m,\u001b[0m\u001b[0;36m974\u001b[0m\u001b[0;34m)\u001b[0m\u001b[0;34m,\u001b[0m\u001b[0;34m'F'\u001b[0m\u001b[0;34m:\u001b[0m \u001b[0;34m(\u001b[0m\u001b[0;36m500\u001b[0m\u001b[0;34m,\u001b[0m\u001b[0;36m974\u001b[0m\u001b[0;34m)\u001b[0m\u001b[0;34m}\u001b[0m\u001b[0;34m\u001b[0m\u001b[0m\n\u001b[1;32m     33\u001b[0m \u001b[0;34m\u001b[0m\u001b[0m\n\u001b[0;32m---> 34\u001b[0;31m \u001b[0mmf\u001b[0m\u001b[0;34m.\u001b[0m\u001b[0mkernel\u001b[0m\u001b[0;34m(\u001b[0m\u001b[0;34m)\u001b[0m\u001b[0;34m\u001b[0m\u001b[0m\n\u001b[0m",
      "\u001b[0;32m/home/narbe/pyscf/pyscf/scf/hf.pyc\u001b[0m in \u001b[0;36mkernel\u001b[0;34m(self, dm0, **kwargs)\u001b[0m\n\u001b[1;32m   1383\u001b[0m         \u001b[0;32mreturn\u001b[0m \u001b[0mself\u001b[0m\u001b[0;34m.\u001b[0m\u001b[0me_tot\u001b[0m\u001b[0;34m\u001b[0m\u001b[0m\n\u001b[1;32m   1384\u001b[0m     \u001b[0;32mdef\u001b[0m \u001b[0mkernel\u001b[0m\u001b[0;34m(\u001b[0m\u001b[0mself\u001b[0m\u001b[0;34m,\u001b[0m \u001b[0mdm0\u001b[0m\u001b[0;34m=\u001b[0m\u001b[0mNone\u001b[0m\u001b[0;34m,\u001b[0m \u001b[0;34m**\u001b[0m\u001b[0mkwargs\u001b[0m\u001b[0;34m)\u001b[0m\u001b[0;34m:\u001b[0m\u001b[0;34m\u001b[0m\u001b[0m\n\u001b[0;32m-> 1385\u001b[0;31m         \u001b[0;32mreturn\u001b[0m \u001b[0mself\u001b[0m\u001b[0;34m.\u001b[0m\u001b[0mscf\u001b[0m\u001b[0;34m(\u001b[0m\u001b[0mdm0\u001b[0m\u001b[0;34m,\u001b[0m \u001b[0;34m**\u001b[0m\u001b[0mkwargs\u001b[0m\u001b[0;34m)\u001b[0m\u001b[0;34m\u001b[0m\u001b[0m\n\u001b[0m\u001b[1;32m   1386\u001b[0m     \u001b[0mkernel\u001b[0m\u001b[0;34m.\u001b[0m\u001b[0m__doc__\u001b[0m \u001b[0;34m=\u001b[0m \u001b[0mscf\u001b[0m\u001b[0;34m.\u001b[0m\u001b[0m__doc__\u001b[0m\u001b[0;34m\u001b[0m\u001b[0m\n\u001b[1;32m   1387\u001b[0m \u001b[0;34m\u001b[0m\u001b[0m\n",
      "\u001b[0;32m/home/narbe/pyscf/pyscf/scf/hf.pyc\u001b[0m in \u001b[0;36mscf\u001b[0;34m(self, dm0, **kwargs)\u001b[0m\n\u001b[1;32m   1377\u001b[0m                 kernel(self, self.conv_tol, self.conv_tol_grad,\n\u001b[1;32m   1378\u001b[0m                        \u001b[0mdm0\u001b[0m\u001b[0;34m=\u001b[0m\u001b[0mdm0\u001b[0m\u001b[0;34m,\u001b[0m \u001b[0mcallback\u001b[0m\u001b[0;34m=\u001b[0m\u001b[0mself\u001b[0m\u001b[0;34m.\u001b[0m\u001b[0mcallback\u001b[0m\u001b[0;34m,\u001b[0m\u001b[0;34m\u001b[0m\u001b[0m\n\u001b[0;32m-> 1379\u001b[0;31m                        conv_check=self.conv_check, **kwargs)\n\u001b[0m\u001b[1;32m   1380\u001b[0m \u001b[0;34m\u001b[0m\u001b[0m\n\u001b[1;32m   1381\u001b[0m         \u001b[0mlogger\u001b[0m\u001b[0;34m.\u001b[0m\u001b[0mtimer\u001b[0m\u001b[0;34m(\u001b[0m\u001b[0mself\u001b[0m\u001b[0;34m,\u001b[0m \u001b[0;34m'SCF'\u001b[0m\u001b[0;34m,\u001b[0m \u001b[0;34m*\u001b[0m\u001b[0mcput0\u001b[0m\u001b[0;34m)\u001b[0m\u001b[0;34m\u001b[0m\u001b[0m\n",
      "\u001b[0;32m/home/narbe/pyscf/pyscf/scf/hf.pyc\u001b[0m in \u001b[0;36mkernel\u001b[0;34m(mf, conv_tol, conv_tol_grad, dump_chk, dm0, callback, conv_check, **kwargs)\u001b[0m\n\u001b[1;32m    152\u001b[0m         \u001b[0;31m# attach mo_coeff and mo_occ to dm to improve DFT get_veff efficiency\u001b[0m\u001b[0;34m\u001b[0m\u001b[0;34m\u001b[0m\u001b[0m\n\u001b[1;32m    153\u001b[0m         \u001b[0mdm\u001b[0m \u001b[0;34m=\u001b[0m \u001b[0mlib\u001b[0m\u001b[0;34m.\u001b[0m\u001b[0mtag_array\u001b[0m\u001b[0;34m(\u001b[0m\u001b[0mdm\u001b[0m\u001b[0;34m,\u001b[0m \u001b[0mmo_coeff\u001b[0m\u001b[0;34m=\u001b[0m\u001b[0mmo_coeff\u001b[0m\u001b[0;34m,\u001b[0m \u001b[0mmo_occ\u001b[0m\u001b[0;34m=\u001b[0m\u001b[0mmo_occ\u001b[0m\u001b[0;34m)\u001b[0m\u001b[0;34m\u001b[0m\u001b[0m\n\u001b[0;32m--> 154\u001b[0;31m         \u001b[0mvhf\u001b[0m \u001b[0;34m=\u001b[0m \u001b[0mmf\u001b[0m\u001b[0;34m.\u001b[0m\u001b[0mget_veff\u001b[0m\u001b[0;34m(\u001b[0m\u001b[0mmol\u001b[0m\u001b[0;34m,\u001b[0m \u001b[0mdm\u001b[0m\u001b[0;34m,\u001b[0m \u001b[0mdm_last\u001b[0m\u001b[0;34m,\u001b[0m \u001b[0mvhf\u001b[0m\u001b[0;34m)\u001b[0m\u001b[0;34m\u001b[0m\u001b[0m\n\u001b[0m\u001b[1;32m    155\u001b[0m         \u001b[0me_tot\u001b[0m \u001b[0;34m=\u001b[0m \u001b[0mmf\u001b[0m\u001b[0;34m.\u001b[0m\u001b[0menergy_tot\u001b[0m\u001b[0;34m(\u001b[0m\u001b[0mdm\u001b[0m\u001b[0;34m,\u001b[0m \u001b[0mh1e\u001b[0m\u001b[0;34m,\u001b[0m \u001b[0mvhf\u001b[0m\u001b[0;34m)\u001b[0m\u001b[0;34m\u001b[0m\u001b[0m\n\u001b[1;32m    156\u001b[0m \u001b[0;34m\u001b[0m\u001b[0m\n",
      "\u001b[0;32m/home/narbe/pyscf/pyscf/dft/rks.pyc\u001b[0m in \u001b[0;36mget_veff\u001b[0;34m(ks, mol, dm, dm_last, vhf_last, hermi)\u001b[0m\n\u001b[1;32m     86\u001b[0m         \u001b[0mn\u001b[0m\u001b[0;34m,\u001b[0m \u001b[0mexc\u001b[0m\u001b[0;34m,\u001b[0m \u001b[0mvxc\u001b[0m \u001b[0;34m=\u001b[0m \u001b[0;36m0\u001b[0m\u001b[0;34m,\u001b[0m \u001b[0;36m0\u001b[0m\u001b[0;34m,\u001b[0m \u001b[0;36m0\u001b[0m\u001b[0;34m\u001b[0m\u001b[0m\n\u001b[1;32m     87\u001b[0m     \u001b[0;32melse\u001b[0m\u001b[0;34m:\u001b[0m\u001b[0;34m\u001b[0m\u001b[0m\n\u001b[0;32m---> 88\u001b[0;31m         \u001b[0mn\u001b[0m\u001b[0;34m,\u001b[0m \u001b[0mexc\u001b[0m\u001b[0;34m,\u001b[0m \u001b[0mvxc\u001b[0m \u001b[0;34m=\u001b[0m \u001b[0mni\u001b[0m\u001b[0;34m.\u001b[0m\u001b[0mnr_rks\u001b[0m\u001b[0;34m(\u001b[0m\u001b[0mmol\u001b[0m\u001b[0;34m,\u001b[0m \u001b[0mks\u001b[0m\u001b[0;34m.\u001b[0m\u001b[0mgrids\u001b[0m\u001b[0;34m,\u001b[0m \u001b[0mks\u001b[0m\u001b[0;34m.\u001b[0m\u001b[0mxc\u001b[0m\u001b[0;34m,\u001b[0m \u001b[0mdm\u001b[0m\u001b[0;34m)\u001b[0m\u001b[0;34m\u001b[0m\u001b[0m\n\u001b[0m\u001b[1;32m     89\u001b[0m         \u001b[0;32mif\u001b[0m \u001b[0mks\u001b[0m\u001b[0;34m.\u001b[0m\u001b[0mnlc\u001b[0m \u001b[0;34m!=\u001b[0m \u001b[0;34m''\u001b[0m\u001b[0;34m:\u001b[0m\u001b[0;34m\u001b[0m\u001b[0m\n\u001b[1;32m     90\u001b[0m             \u001b[0;32massert\u001b[0m\u001b[0;34m(\u001b[0m\u001b[0;34m'VV10'\u001b[0m \u001b[0;32min\u001b[0m \u001b[0mks\u001b[0m\u001b[0;34m.\u001b[0m\u001b[0mnlc\u001b[0m\u001b[0;34m.\u001b[0m\u001b[0mupper\u001b[0m\u001b[0;34m(\u001b[0m\u001b[0;34m)\u001b[0m\u001b[0;34m)\u001b[0m\u001b[0;34m\u001b[0m\u001b[0m\n",
      "\u001b[0;32m/home/narbe/pyscf/pyscf/dft/numint.pyc\u001b[0m in \u001b[0;36mnr_rks\u001b[0;34m(ni, mol, grids, xc_code, dms, relativity, hermi, max_memory, verbose)\u001b[0m\n\u001b[1;32m    677\u001b[0m         \u001b[0mao_deriv\u001b[0m \u001b[0;34m=\u001b[0m \u001b[0;36m1\u001b[0m\u001b[0;34m\u001b[0m\u001b[0m\n\u001b[1;32m    678\u001b[0m         \u001b[0;32mfor\u001b[0m \u001b[0mao\u001b[0m\u001b[0;34m,\u001b[0m \u001b[0mmask\u001b[0m\u001b[0;34m,\u001b[0m \u001b[0mweight\u001b[0m\u001b[0;34m,\u001b[0m \u001b[0mcoords\u001b[0m\u001b[0;31m \u001b[0m\u001b[0;31m\\\u001b[0m\u001b[0;34m\u001b[0m\u001b[0m\n\u001b[0;32m--> 679\u001b[0;31m                 \u001b[0;32min\u001b[0m \u001b[0mni\u001b[0m\u001b[0;34m.\u001b[0m\u001b[0mblock_loop\u001b[0m\u001b[0;34m(\u001b[0m\u001b[0mmol\u001b[0m\u001b[0;34m,\u001b[0m \u001b[0mgrids\u001b[0m\u001b[0;34m,\u001b[0m \u001b[0mnao\u001b[0m\u001b[0;34m,\u001b[0m \u001b[0mao_deriv\u001b[0m\u001b[0;34m,\u001b[0m \u001b[0mmax_memory\u001b[0m\u001b[0;34m)\u001b[0m\u001b[0;34m:\u001b[0m\u001b[0;34m\u001b[0m\u001b[0m\n\u001b[0m\u001b[1;32m    680\u001b[0m             \u001b[0mngrid\u001b[0m \u001b[0;34m=\u001b[0m \u001b[0mweight\u001b[0m\u001b[0;34m.\u001b[0m\u001b[0msize\u001b[0m\u001b[0;34m\u001b[0m\u001b[0m\n\u001b[1;32m    681\u001b[0m             \u001b[0maow\u001b[0m \u001b[0;34m=\u001b[0m \u001b[0mnumpy\u001b[0m\u001b[0;34m.\u001b[0m\u001b[0mndarray\u001b[0m\u001b[0;34m(\u001b[0m\u001b[0mao\u001b[0m\u001b[0;34m[\u001b[0m\u001b[0;36m0\u001b[0m\u001b[0;34m]\u001b[0m\u001b[0;34m.\u001b[0m\u001b[0mshape\u001b[0m\u001b[0;34m,\u001b[0m \u001b[0morder\u001b[0m\u001b[0;34m=\u001b[0m\u001b[0;34m'F'\u001b[0m\u001b[0;34m,\u001b[0m \u001b[0mbuffer\u001b[0m\u001b[0;34m=\u001b[0m\u001b[0maow\u001b[0m\u001b[0;34m)\u001b[0m\u001b[0;34m\u001b[0m\u001b[0m\n",
      "\u001b[0;32m/home/narbe/pyscf/pyscf/dft/numint.pyc\u001b[0m in \u001b[0;36mblock_loop\u001b[0;34m(self, mol, grids, nao, deriv, max_memory, non0tab, blksize, buf)\u001b[0m\n\u001b[1;32m   1561\u001b[0m             \u001b[0mweight\u001b[0m \u001b[0;34m=\u001b[0m \u001b[0mgrids\u001b[0m\u001b[0;34m.\u001b[0m\u001b[0mweights\u001b[0m\u001b[0;34m[\u001b[0m\u001b[0mip0\u001b[0m\u001b[0;34m:\u001b[0m\u001b[0mip1\u001b[0m\u001b[0;34m]\u001b[0m\u001b[0;34m\u001b[0m\u001b[0m\n\u001b[1;32m   1562\u001b[0m             \u001b[0mnon0\u001b[0m \u001b[0;34m=\u001b[0m \u001b[0mnon0tab\u001b[0m\u001b[0;34m[\u001b[0m\u001b[0mip0\u001b[0m\u001b[0;34m//\u001b[0m\u001b[0mBLKSIZE\u001b[0m\u001b[0;34m:\u001b[0m\u001b[0;34m]\u001b[0m\u001b[0;34m\u001b[0m\u001b[0m\n\u001b[0;32m-> 1563\u001b[0;31m             \u001b[0mao\u001b[0m \u001b[0;34m=\u001b[0m \u001b[0mself\u001b[0m\u001b[0;34m.\u001b[0m\u001b[0meval_ao\u001b[0m\u001b[0;34m(\u001b[0m\u001b[0mmol\u001b[0m\u001b[0;34m,\u001b[0m \u001b[0mcoords\u001b[0m\u001b[0;34m,\u001b[0m \u001b[0mderiv\u001b[0m\u001b[0;34m=\u001b[0m\u001b[0mderiv\u001b[0m\u001b[0;34m,\u001b[0m \u001b[0mnon0tab\u001b[0m\u001b[0;34m=\u001b[0m\u001b[0mnon0\u001b[0m\u001b[0;34m,\u001b[0m \u001b[0mout\u001b[0m\u001b[0;34m=\u001b[0m\u001b[0mbuf\u001b[0m\u001b[0;34m)\u001b[0m\u001b[0;34m\u001b[0m\u001b[0m\n\u001b[0m\u001b[1;32m   1564\u001b[0m             \u001b[0;32myield\u001b[0m \u001b[0mao\u001b[0m\u001b[0;34m,\u001b[0m \u001b[0mnon0\u001b[0m\u001b[0;34m,\u001b[0m \u001b[0mweight\u001b[0m\u001b[0;34m,\u001b[0m \u001b[0mcoords\u001b[0m\u001b[0;34m\u001b[0m\u001b[0m\n\u001b[1;32m   1565\u001b[0m \u001b[0;34m\u001b[0m\u001b[0m\n",
      "\u001b[0;32m/home/narbe/pyscf/pyscf/dft/numint.pyc\u001b[0m in \u001b[0;36meval_ao\u001b[0;34m(self, mol, coords, deriv, shls_slice, non0tab, out, verbose)\u001b[0m\n\u001b[1;32m   1521\u001b[0m     def eval_ao(self, mol, coords, deriv=0, shls_slice=None,\n\u001b[1;32m   1522\u001b[0m                 non0tab=None, out=None, verbose=None):\n\u001b[0;32m-> 1523\u001b[0;31m         \u001b[0;32mreturn\u001b[0m \u001b[0meval_ao\u001b[0m\u001b[0;34m(\u001b[0m\u001b[0mmol\u001b[0m\u001b[0;34m,\u001b[0m \u001b[0mcoords\u001b[0m\u001b[0;34m,\u001b[0m \u001b[0mderiv\u001b[0m\u001b[0;34m,\u001b[0m \u001b[0mshls_slice\u001b[0m\u001b[0;34m,\u001b[0m \u001b[0mnon0tab\u001b[0m\u001b[0;34m,\u001b[0m \u001b[0mout\u001b[0m\u001b[0;34m,\u001b[0m \u001b[0mverbose\u001b[0m\u001b[0;34m)\u001b[0m\u001b[0;34m\u001b[0m\u001b[0m\n\u001b[0m\u001b[1;32m   1524\u001b[0m \u001b[0;34m\u001b[0m\u001b[0m\n\u001b[1;32m   1525\u001b[0m     \u001b[0;34m@\u001b[0m\u001b[0mlib\u001b[0m\u001b[0;34m.\u001b[0m\u001b[0mwith_doc\u001b[0m\u001b[0;34m(\u001b[0m\u001b[0mmake_mask\u001b[0m\u001b[0;34m.\u001b[0m\u001b[0m__doc__\u001b[0m\u001b[0;34m)\u001b[0m\u001b[0;34m\u001b[0m\u001b[0m\n",
      "\u001b[0;32m/home/narbe/pyscf/pyscf/dft/numint.pyc\u001b[0m in \u001b[0;36meval_ao\u001b[0;34m(mol, coords, deriv, shls_slice, non0tab, out, verbose)\u001b[0m\n\u001b[1;32m    102\u001b[0m     \u001b[0;32melse\u001b[0m\u001b[0;34m:\u001b[0m\u001b[0;34m\u001b[0m\u001b[0m\n\u001b[1;32m    103\u001b[0m         \u001b[0mfeval\u001b[0m \u001b[0;34m=\u001b[0m \u001b[0;34m'GTOval_sph_deriv%d'\u001b[0m \u001b[0;34m%\u001b[0m \u001b[0mderiv\u001b[0m\u001b[0;34m\u001b[0m\u001b[0m\n\u001b[0;32m--> 104\u001b[0;31m     \u001b[0;32mreturn\u001b[0m \u001b[0mmol\u001b[0m\u001b[0;34m.\u001b[0m\u001b[0meval_gto\u001b[0m\u001b[0;34m(\u001b[0m\u001b[0mfeval\u001b[0m\u001b[0;34m,\u001b[0m \u001b[0mcoords\u001b[0m\u001b[0;34m,\u001b[0m \u001b[0mcomp\u001b[0m\u001b[0;34m,\u001b[0m \u001b[0mshls_slice\u001b[0m\u001b[0;34m,\u001b[0m \u001b[0mnon0tab\u001b[0m\u001b[0;34m,\u001b[0m \u001b[0mout\u001b[0m\u001b[0;34m=\u001b[0m\u001b[0mout\u001b[0m\u001b[0;34m)\u001b[0m\u001b[0;34m\u001b[0m\u001b[0m\n\u001b[0m\u001b[1;32m    105\u001b[0m \u001b[0;34m\u001b[0m\u001b[0m\n\u001b[1;32m    106\u001b[0m \u001b[0;31m#TODO: \\nabla^2 rho and tau = 1/2 (\\nabla f)^2\u001b[0m\u001b[0;34m\u001b[0m\u001b[0;34m\u001b[0m\u001b[0m\n",
      "\u001b[0;32m/home/narbe/pyscf/pyscf/gto/eval_gto.pyc\u001b[0m in \u001b[0;36meval_gto\u001b[0;34m(mol, eval_name, coords, comp, shls_slice, non0tab, ao_loc, out)\u001b[0m\n\u001b[1;32m    117\u001b[0m         \u001b[0matm\u001b[0m\u001b[0;34m.\u001b[0m\u001b[0mctypes\u001b[0m\u001b[0;34m.\u001b[0m\u001b[0mdata_as\u001b[0m\u001b[0;34m(\u001b[0m\u001b[0mctypes\u001b[0m\u001b[0;34m.\u001b[0m\u001b[0mc_void_p\u001b[0m\u001b[0;34m)\u001b[0m\u001b[0;34m,\u001b[0m \u001b[0mctypes\u001b[0m\u001b[0;34m.\u001b[0m\u001b[0mc_int\u001b[0m\u001b[0;34m(\u001b[0m\u001b[0mnatm\u001b[0m\u001b[0;34m)\u001b[0m\u001b[0;34m,\u001b[0m\u001b[0;34m\u001b[0m\u001b[0m\n\u001b[1;32m    118\u001b[0m         \u001b[0mbas\u001b[0m\u001b[0;34m.\u001b[0m\u001b[0mctypes\u001b[0m\u001b[0;34m.\u001b[0m\u001b[0mdata_as\u001b[0m\u001b[0;34m(\u001b[0m\u001b[0mctypes\u001b[0m\u001b[0;34m.\u001b[0m\u001b[0mc_void_p\u001b[0m\u001b[0;34m)\u001b[0m\u001b[0;34m,\u001b[0m \u001b[0mctypes\u001b[0m\u001b[0;34m.\u001b[0m\u001b[0mc_int\u001b[0m\u001b[0;34m(\u001b[0m\u001b[0mnbas\u001b[0m\u001b[0;34m)\u001b[0m\u001b[0;34m,\u001b[0m\u001b[0;34m\u001b[0m\u001b[0m\n\u001b[0;32m--> 119\u001b[0;31m         env.ctypes.data_as(ctypes.c_void_p))\n\u001b[0m\u001b[1;32m    120\u001b[0m \u001b[0;34m\u001b[0m\u001b[0m\n\u001b[1;32m    121\u001b[0m     \u001b[0mao\u001b[0m \u001b[0;34m=\u001b[0m \u001b[0mnumpy\u001b[0m\u001b[0;34m.\u001b[0m\u001b[0mswapaxes\u001b[0m\u001b[0;34m(\u001b[0m\u001b[0mao\u001b[0m\u001b[0;34m,\u001b[0m \u001b[0;34m-\u001b[0m\u001b[0;36m1\u001b[0m\u001b[0;34m,\u001b[0m \u001b[0;34m-\u001b[0m\u001b[0;36m2\u001b[0m\u001b[0;34m)\u001b[0m\u001b[0;34m\u001b[0m\u001b[0m\n",
      "\u001b[0;31mKeyboardInterrupt\u001b[0m: "
     ]
    }
   ],
   "source": [
    "import pyscf\n",
    "import numpy\n",
    "from pyscf import gto,scf\n",
    "\n",
    "mol=gto.Mole()\n",
    "\n",
    "mol.atom=\"\"\"\n",
    "H 0.0 0.0 0.0\n",
    "F 0.0 0.0 2.0\n",
    "\"\"\"\n",
    "mol.basis='cc-pVTZ'\n",
    "mol.cart=False\n",
    "mol.charge=0\n",
    "mol.ecp={}\n",
    "mol.spin=0\n",
    "mol.unit='Angstrom'\n",
    "mol.verbose=0\n",
    "\n",
    "mol.build()\n",
    "\n",
    "mf=scf.RKS(mol)\n",
    "\n",
    "mf.conv_tol=1e-12\n",
    "mf.conv_tol_grad=1e-8\n",
    "mf.direct_scf_tol=1e-13\n",
    "mf.init_guess='1e'\n",
    "mf.max_cycle=100\n",
    "mf.max_memory=8000\n",
    "mf.verbose=0\n",
    "mf.small_rho_cutoff=1e-14\n",
    "mf.xc='HF,P86'\n",
    "mf.grids.atom_grid={'H': (500,974),'F': (500,974)}\n",
    "\n",
    "mf.kernel()"
   ]
  },
  {
   "cell_type": "code",
   "execution_count": 1,
   "metadata": {},
   "outputs": [],
   "source": [
    "import pyscf\n",
    "from pyscf import gto,scf,dft\n",
    "\n",
    "def scf(method,molecule,basis,\n",
    "        cart=False,charge=0,ecp={},spin=0,unit='Angstrom',\n",
    "        conv_tol=1e-12,conv_tol_grad=1e-8,direct_scf_tol=1e-13,init_guess='atom',max_cycle=100,max_memory=8000,\n",
    "        #xc=None,nlc=None,xc_grid=3,nlc_grid=3,\n",
    "        #atomic_radii='BRAGG',becke_scheme='becke',prune='nwchem',radi_method='treutler_ahlrichs',radii_adjust='treutler',\n",
    "        xc=None,nlc=None,xc_grid=(99,590),nlc_grid=(50,194),\n",
    "        atomic_radii='BRAGG',becke_scheme='becke',prune=None,radi_method='gauss_chebyshev',radii_adjust=None,\n",
    "        verbose=4):\n",
    "\n",
    "    mol=gto.Mole()\n",
    "    mol.atom=molecule\n",
    "    mol.basis=basis\n",
    "    mol.cart=cart\n",
    "    mol.charge=charge\n",
    "    mol.ecp=ecp\n",
    "    mol.spin=spin\n",
    "    mol.unit=unit\n",
    "    mol.verbose=verbose\n",
    "    mol.build()\n",
    "\n",
    "    if method=='RHF' or method=='ROHF' or (method=='HF' and spin==0):\n",
    "        mf=scf.RHF(mol)\n",
    "    elif method=='UHF' or (method=='HF' and spin!=0):\n",
    "        mf=scf.UHF(mol)\n",
    "    elif method=='RKS' or method=='ROKS' or ((method=='KS' or method=='DFT') and spin==0):\n",
    "        mf=scf.RKS(mol)\n",
    "        DFT=True\n",
    "    elif method=='UKS' or ((method=='KS' or method=='DFT') and spin!=0):\n",
    "        mf=scf.UKS(mol)\n",
    "        DFT=True\n",
    "        \n",
    "    mf.conv_tol=conv_tol\n",
    "    mf.conv_tol_grad=conv_tol_grad\n",
    "    mf.direct_scf_tol=direct_scf_tol\n",
    "    mf.init_guess=init_guess\n",
    "    mf.max_cycle=max_cycle\n",
    "    mf.max_memory=max_memory\n",
    "    mf.verbose=verbose\n",
    "\n",
    "    if DFT:\n",
    "\n",
    "        mf.xc=xc\n",
    "        mf.nlc=nlc\n",
    "        \n",
    "        if isinstance(xc_grid,int):\n",
    "            mf.grids.level=xc_grid\n",
    "        elif isinstance(xc_grid,str):\n",
    "            if xc_grid[0]=='(' and xc_grid[-1]==')':\n",
    "                mf.grids.atom_grid=xc_grid\n",
    "            else:\n",
    "                print \"CRASH\"\n",
    "        elif isinstance(xc_grid,dict):\n",
    "            mf.grids.atom_grid=xc_grid\n",
    "        else:\n",
    "            print \"CRASH\"\n",
    "\n",
    "        if isinstance(nlc_grid,int):\n",
    "            mf.nlc_grids.level=nlc_grid\n",
    "        elif isinstance(nlc_grid,str):\n",
    "            if nlc_grid[0]=='(' and nlc_grid[-1]==')':\n",
    "                mf.nlc_grids.atom_grid=nlc_grid\n",
    "            else:\n",
    "                print \"CRASH\"\n",
    "        elif isinstance(nlc_grid,dict):\n",
    "            mf.nlc_grids.atom_grid=nlc_grid\n",
    "        else:\n",
    "            print \"CRASH\"\n",
    "\n",
    "        if atomic_radii=='BRAGG':\n",
    "            mf.grids.atomic_radii=dft.radi.BRAGG_RADII\n",
    "            mf.nlc_grids.atomic_radii=dft.radi.BRAGG_RADII\n",
    "        elif atomic_radii=='COVALENT':\n",
    "            mf.grids.atomic_radii=dft.radi.COVALENT_RADII\n",
    "            mf.nlc_grids.atomic_radii=dft.radi.COVALENT_RADII\n",
    "        else:\n",
    "            print \"CRASH\"\n",
    "\n",
    "        if becke_scheme=='becke':\n",
    "            mf.grids.becke_scheme=dft.gen_grid.original_becke\n",
    "            mf.nlc_grids.becke_scheme=dft.gen_grid.original_becke\n",
    "        elif becke_scheme=='stratmann':\n",
    "            mf.grids.becke_scheme=dft.gen_grid.stratmann\n",
    "            mf.nlc_grids.becke_scheme=dft.gen_grid.stratmann\n",
    "        else:\n",
    "            print \"CRASH\"\n",
    "\n",
    "        if prune=='nwchem':\n",
    "            mf.grids.prune=dft.gen_grid.nwchem_prune\n",
    "            mf.nlc_grids.prune=dft.gen_grid.nwchem_prune\n",
    "        elif prune=='sg1':\n",
    "            mf.grids.prune=dft.gen_grid.sg1_prune\n",
    "            mf.nlc_grids.prune=dft.gen_grid.sg1_prune\n",
    "        elif prune=='treutler':\n",
    "            mf.grids.prune=dft.gen_grid.treutler_prune\n",
    "            mf.nlc_grids.prune=dft.gen_grid.treutler_prune\n",
    "        elif prune=='None' or prune==None:\n",
    "            mf.grids.prune=None\n",
    "            mf.nlc_grids.prune=None\n",
    "        else:\n",
    "            print \"CRASH\"\n",
    "\n",
    "        if radi_method=='treutler' or radi_method=='ahlrichs' or radi_method=='treutler_ahlrichs':\n",
    "            mf.grids.radi_method=dft.radi.treutler_ahlrichs\n",
    "            mf.nlc_grids.radi_method=dft.radi.treutler_ahlrichs\n",
    "        elif radi_method=='delley':\n",
    "            mf.grids.radi_method=dft.radi.delley\n",
    "            mf.nlc_grids.radi_method=dft.radi.delley\n",
    "        elif radi_method=='mura_knowles' or radi_method=='mura' or radi_method=='knowles':\n",
    "            mf.grids.radi_method=dft.radi.mura_knowles\n",
    "            mf.nlc_grids.radi_method=dft.radi.mura_knowles\n",
    "        elif radi_method=='gauss_chebyshev' or radi_method=='gauss' or radi_method=='chebyshev':\n",
    "            mf.grids.radi_method=dft.radi.gauss_chebyshev\n",
    "            mf.nlc_grids.radi_method=dft.radi.gauss_chebyshev\n",
    "        else:\n",
    "            print \"CRASH\"\n",
    "\n",
    "        if radii_adjust=='original_becke':\n",
    "            mf.grids.radii_adjust=dft.radi.treutler_atomic_radii_adjust\n",
    "            mf.nlc_grids.radii_adjust=dft.radi.treutler_atomic_radii_adjust\n",
    "        elif radii_adjust=='stratmann':\n",
    "            mf.grids.radii_adjust=dft.radi.becke_atomic_radii_adjust\n",
    "            mf.nlc_grids.radii_adjust=dft.radi.becke_atomic_radii_adjust\n",
    "        elif radii_adjust=='None' or radii_adjust==None:\n",
    "            mf.grids.radii_adjust=None\n",
    "            mf.nlc_grids.radii_adjust=None\n",
    "        else:\n",
    "            print \"CRASH\"\n",
    "\n",
    "        mf.small_rho_cutoff=small_rho_cutoff\n",
    "\n",
    "    return mf.kernel()"
   ]
  },
  {
   "cell_type": "code",
   "execution_count": 2,
   "metadata": {},
   "outputs": [],
   "source": [
    "import pyscf\n",
    "from pyscf import gto,scf,dft"
   ]
  },
  {
   "cell_type": "code",
   "execution_count": 3,
   "metadata": {},
   "outputs": [],
   "source": [
    "mol=gto.Mole()\n",
    "\n",
    "mol.atom=\"\"\"\n",
    "O  -1.551007  -0.114520   0.000000\n",
    "H  -1.934259   0.762503   0.000000\n",
    "H  -0.599677   0.040712   0.000000\n",
    "O   1.350625   0.111469   0.000000\n",
    "H   1.680398  -0.373741  -0.758561\n",
    "H   1.680398  -0.373741   0.758561\"\"\"\n",
    "mol.basis='aug-cc-pVDZ'\n",
    "mol.cart=False\n",
    "mol.charge=0\n",
    "mol.ecp={}\n",
    "mol.spin=0\n",
    "mol.unit='Angstrom'\n",
    "mol.verbose=0\n",
    "\n",
    "mol.build()\n",
    "\n",
    "mf=scf.RKS(mol)"
   ]
  },
  {
   "cell_type": "code",
   "execution_count": 5,
   "metadata": {},
   "outputs": [
    {
     "data": {
      "text/plain": [
       "{'_keys': {'atom_grid',\n",
       "  'atomic_radii',\n",
       "  'becke_scheme',\n",
       "  'coords',\n",
       "  'level',\n",
       "  'mol',\n",
       "  'non0tab',\n",
       "  'prune',\n",
       "  'radi_method',\n",
       "  'radii_adjust',\n",
       "  'stdout',\n",
       "  'symmetry',\n",
       "  'verbose',\n",
       "  'weights'},\n",
       " 'atom_grid': {},\n",
       " 'atomic_radii': array([ 0.        ,  0.66140414,  2.64561657,  2.74010288,  1.98421243,\n",
       "         1.60626721,  1.32280829,  1.22832198,  1.13383567,  0.94486306,\n",
       "         2.83458919,  3.40150702,  2.83458919,  2.36215766,  2.07869874,\n",
       "         1.88972612,  1.88972612,  1.88972612,  3.40150702,  4.15739747,\n",
       "         3.40150702,  3.0235618 ,  2.64561657,  2.55113027,  2.64561657,\n",
       "         2.64561657,  2.64561657,  2.55113027,  2.55113027,  2.55113027,\n",
       "         2.55113027,  2.45664396,  2.36215766,  2.17318504,  2.17318504,\n",
       "         2.17318504,  3.59047964,  4.44085639,  3.77945225,  3.40150702,\n",
       "         2.92907549,  2.74010288,  2.74010288,  2.55113027,  2.45664396,\n",
       "         2.55113027,  2.64561657,  3.0235618 ,  2.92907549,  2.92907549,\n",
       "         2.74010288,  2.74010288,  2.64561657,  2.64561657,  3.96842486,\n",
       "         4.91328792,  4.06291117,  3.68496594,  3.49599333,  3.49599333,\n",
       "         3.49599333,  3.49599333,  3.49599333,  3.49599333,  3.40150702,\n",
       "         3.30702072,  3.30702072,  3.30702072,  3.30702072,  3.30702072,\n",
       "         3.30702072,  3.30702072,  2.92907549,  2.74010288,  2.55113027,\n",
       "         2.55113027,  2.45664396,  2.55113027,  2.55113027,  2.55113027,\n",
       "         2.83458919,  3.59047964,  3.40150702,  3.0235618 ,  3.59047964,\n",
       "         2.74010288,  3.96842486,  3.40150702,  4.06291117,  3.68496594,\n",
       "         3.40150702,  3.40150702,  3.30702072,  3.30702072,  3.30702072,\n",
       "         3.30702072,  3.30702072,  3.30702072,  3.30702072,  3.30702072,\n",
       "         3.30702072,  3.30702072,  3.30702072,  3.30702072,  3.30702072,\n",
       "         3.30702072,  3.30702072,  3.30702072,  3.30702072,  3.30702072,\n",
       "         3.30702072,  3.30702072,  3.30702072,  3.30702072,  3.30702072,\n",
       "         3.30702072,  3.30702072,  3.30702072,  3.30702072,  3.30702072,\n",
       "         3.30702072,  3.30702072,  3.30702072,  3.30702072,  3.30702072,\n",
       "         3.30702072,  3.30702072,  3.30702072,  3.30702072,  3.30702072,\n",
       "         3.30702072]),\n",
       " 'becke_scheme': <function pyscf.dft.gen_grid.original_becke>,\n",
       " 'coords': None,\n",
       " 'level': 3,\n",
       " 'mol': <pyscf.gto.mole.Mole at 0x7f89b6d74bd0>,\n",
       " 'non0tab': None,\n",
       " 'prune': <function pyscf.dft.gen_grid.nwchem_prune>,\n",
       " 'radi_method': <function pyscf.dft.radi.treutler_ahlrichs>,\n",
       " 'radii_adjust': <function pyscf.dft.radi.treutler_atomic_radii_adjust>,\n",
       " 'stdout': <ipykernel.iostream.OutStream at 0x7f89e52c8250>,\n",
       " 'symmetry': False,\n",
       " 'verbose': 0,\n",
       " 'weights': None}"
      ]
     },
     "execution_count": 5,
     "metadata": {},
     "output_type": "execute_result"
    }
   ],
   "source": [
    "mf.grids.__dict__"
   ]
  },
  {
   "cell_type": "code",
   "execution_count": null,
   "metadata": {},
   "outputs": [],
   "source": []
  }
 ],
 "metadata": {
  "kernelspec": {
   "display_name": "Python 2",
   "language": "python",
   "name": "python2"
  },
  "language_info": {
   "codemirror_mode": {
    "name": "ipython",
    "version": 2
   },
   "file_extension": ".py",
   "mimetype": "text/x-python",
   "name": "python",
   "nbconvert_exporter": "python",
   "pygments_lexer": "ipython2",
   "version": "2.7.12"
  }
 },
 "nbformat": 4,
 "nbformat_minor": 2
}

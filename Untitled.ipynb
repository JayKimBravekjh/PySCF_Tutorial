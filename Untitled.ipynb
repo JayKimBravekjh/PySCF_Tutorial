{
 "cells": [
  {
   "cell_type": "code",
   "execution_count": 1,
   "metadata": {},
   "outputs": [
    {
     "data": {
      "text/plain": [
       "-75.414428363300146"
      ]
     },
     "execution_count": 1,
     "metadata": {},
     "output_type": "execute_result"
    }
   ],
   "source": [
    "import pyscf\n",
    "import numpy\n",
    "from pyscf import gto,scf\n",
    "\n",
    "mol=gto.Mole()\n",
    "\n",
    "mol.atom=\"\"\"\n",
    "O       0.0000000000     0.0000000000     0.0000000000\n",
    "H       0.0000000000     0.0000000000     0.9706601900\n",
    "\"\"\"\n",
    "mol.basis='cc-pVTZ'\n",
    "mol.cart=False\n",
    "mol.charge=0\n",
    "mol.ecp={}\n",
    "mol.spin=1\n",
    "mol.unit='Angstrom'\n",
    "mol.verbose=0\n",
    "\n",
    "mol.build()\n",
    "\n",
    "mf=scf.RHF(mol)\n",
    "\n",
    "mf.conv_tol=1e-12\n",
    "mf.conv_tol_grad=1e-8\n",
    "mf.direct_scf_tol=1e-13\n",
    "mf.init_guess='1e'\n",
    "mf.max_cycle=100\n",
    "mf.max_memory=8000\n",
    "mf.verbose=0\n",
    "\n",
    "mf.kernel()"
   ]
  },
  {
   "cell_type": "code",
   "execution_count": 2,
   "metadata": {},
   "outputs": [
    {
     "name": "stdout",
     "output_type": "stream",
     "text": [
      "Dipole moment(X, Y, Z, Debye): -0.00000, -0.00000,  1.78812\n"
     ]
    },
    {
     "data": {
      "text/plain": [
       "array([ -3.99479062e-15,  -7.84749205e-15,   1.78811633e+00])"
      ]
     },
     "execution_count": 2,
     "metadata": {},
     "output_type": "execute_result"
    }
   ],
   "source": [
    "scf.uhf.dip_moment(mol,mf.make_rdm1())"
   ]
  },
  {
   "cell_type": "code",
   "execution_count": 3,
   "metadata": {},
   "outputs": [
    {
     "data": {
      "text/plain": [
       "(7.1054273576010019e-15, 1.0000000000000142)"
      ]
     },
     "execution_count": 3,
     "metadata": {},
     "output_type": "execute_result"
    }
   ],
   "source": [
    "scf.uhf.spin_square((mf.mo_coeff[:,mf.mo_occ>0],mf.mo_coeff[:,mf.mo_occ>0]),mf.get_ovlp())"
   ]
  },
  {
   "cell_type": "code",
   "execution_count": 4,
   "metadata": {},
   "outputs": [
    {
     "data": {
      "text/plain": [
       "array([-0.34757223,  0.34757223])"
      ]
     },
     "execution_count": 4,
     "metadata": {},
     "output_type": "execute_result"
    }
   ],
   "source": [
    "mf.mulliken_meta(verbose=0)[1]"
   ]
  },
  {
   "cell_type": "code",
   "execution_count": 5,
   "metadata": {},
   "outputs": [
    {
     "data": {
      "text/plain": [
       "array([-0.25422653,  0.25422653])"
      ]
     },
     "execution_count": 5,
     "metadata": {},
     "output_type": "execute_result"
    }
   ],
   "source": [
    "mf.mulliken_pop(verbose=0)[1]"
   ]
  },
  {
   "cell_type": "code",
   "execution_count": null,
   "metadata": {
    "collapsed": true
   },
   "outputs": [],
   "source": []
  },
  {
   "cell_type": "code",
   "execution_count": 6,
   "metadata": {},
   "outputs": [
    {
     "data": {
      "text/plain": [
       "-75.41922574145255"
      ]
     },
     "execution_count": 6,
     "metadata": {},
     "output_type": "execute_result"
    }
   ],
   "source": [
    "import pyscf\n",
    "import numpy\n",
    "from pyscf import gto,scf\n",
    "\n",
    "mol=gto.Mole()\n",
    "\n",
    "mol.atom=\"\"\"\n",
    "O       0.0000000000     0.0000000000     0.0000000000\n",
    "H       0.0000000000     0.0000000000     0.9706601900\n",
    "\"\"\"\n",
    "mol.basis='cc-pVTZ'\n",
    "mol.cart=False\n",
    "mol.charge=0\n",
    "mol.ecp={}\n",
    "mol.spin=1\n",
    "mol.unit='Angstrom'\n",
    "mol.verbose=0\n",
    "\n",
    "mol.build()\n",
    "\n",
    "mf=scf.UHF(mol)\n",
    "\n",
    "mf.conv_tol=1e-12\n",
    "mf.conv_tol_grad=1e-8\n",
    "mf.direct_scf_tol=1e-13\n",
    "mf.init_guess='1e'\n",
    "mf.max_cycle=100\n",
    "mf.max_memory=8000\n",
    "mf.verbose=0\n",
    "\n",
    "mf.kernel()"
   ]
  },
  {
   "cell_type": "code",
   "execution_count": 7,
   "metadata": {},
   "outputs": [
    {
     "name": "stdout",
     "output_type": "stream",
     "text": [
      "Dipole moment(X, Y, Z, Debye):  0.00000, -0.00000,  1.78721\n"
     ]
    },
    {
     "data": {
      "text/plain": [
       "array([  3.88048411e-15,  -5.66171308e-15,   1.78721196e+00])"
      ]
     },
     "execution_count": 7,
     "metadata": {},
     "output_type": "execute_result"
    }
   ],
   "source": [
    "scf.uhf.dip_moment(mol,mf.make_rdm1())"
   ]
  },
  {
   "cell_type": "code",
   "execution_count": 8,
   "metadata": {
    "scrolled": true
   },
   "outputs": [
    {
     "data": {
      "text/plain": [
       "(0.75606098537886979, 2.0060518292196439)"
      ]
     },
     "execution_count": 8,
     "metadata": {},
     "output_type": "execute_result"
    }
   ],
   "source": [
    "mf.spin_square()"
   ]
  },
  {
   "cell_type": "code",
   "execution_count": 9,
   "metadata": {},
   "outputs": [
    {
     "data": {
      "text/plain": [
       "array([-0.34606321,  0.34606321])"
      ]
     },
     "execution_count": 9,
     "metadata": {},
     "output_type": "execute_result"
    }
   ],
   "source": [
    "mf.mulliken_meta(verbose=0)[1]"
   ]
  },
  {
   "cell_type": "code",
   "execution_count": 10,
   "metadata": {},
   "outputs": [
    {
     "data": {
      "text/plain": [
       "array([-0.25245498,  0.25245498])"
      ]
     },
     "execution_count": 10,
     "metadata": {},
     "output_type": "execute_result"
    }
   ],
   "source": [
    "mf.mulliken_pop(verbose=0)[1]"
   ]
  },
  {
   "cell_type": "code",
   "execution_count": null,
   "metadata": {
    "collapsed": true
   },
   "outputs": [],
   "source": []
  },
  {
   "cell_type": "code",
   "execution_count": 11,
   "metadata": {
    "collapsed": true
   },
   "outputs": [],
   "source": [
    "import pyscf\n",
    "import numpy\n",
    "from pyscf import gto,scf\n",
    "\n",
    "mol=gto.Mole()\n",
    "\n",
    "mol.atom=\"\"\"\n",
    "H       0.0000000000     0.0000000000     0.0000000000\n",
    "H       0.0000000000     0.0000000000     0.9706601900\n",
    "\"\"\"\n",
    "mol.basis='cc-pVTZ'\n",
    "mol.cart=False\n",
    "mol.charge=0\n",
    "mol.ecp={}\n",
    "mol.spin=0\n",
    "mol.unit='Angstrom'\n",
    "mol.verbose=0\n",
    "\n",
    "mol.build()\n",
    "\n",
    "mf=scf.RKS(mol)"
   ]
  },
  {
   "cell_type": "code",
   "execution_count": 21,
   "metadata": {},
   "outputs": [
    {
     "data": {
      "text/plain": [
       "{'_keys': {'atom_grid',\n",
       "  'atomic_radii',\n",
       "  'becke_scheme',\n",
       "  'coords',\n",
       "  'level',\n",
       "  'mol',\n",
       "  'non0tab',\n",
       "  'prune',\n",
       "  'radi_method',\n",
       "  'radii_adjust',\n",
       "  'stdout',\n",
       "  'symmetry',\n",
       "  'verbose',\n",
       "  'weights'},\n",
       " 'atom_grid': {},\n",
       " 'atomic_radii': array([ 0.        ,  0.66140414,  2.64561657,  2.74010288,  1.98421243,\n",
       "         1.60626721,  1.32280829,  1.22832198,  1.13383567,  0.94486306,\n",
       "         2.83458919,  3.40150702,  2.83458919,  2.36215766,  2.07869874,\n",
       "         1.88972612,  1.88972612,  1.88972612,  3.40150702,  4.15739747,\n",
       "         3.40150702,  3.0235618 ,  2.64561657,  2.55113027,  2.64561657,\n",
       "         2.64561657,  2.64561657,  2.55113027,  2.55113027,  2.55113027,\n",
       "         2.55113027,  2.45664396,  2.36215766,  2.17318504,  2.17318504,\n",
       "         2.17318504,  3.59047964,  4.44085639,  3.77945225,  3.40150702,\n",
       "         2.92907549,  2.74010288,  2.74010288,  2.55113027,  2.45664396,\n",
       "         2.55113027,  2.64561657,  3.0235618 ,  2.92907549,  2.92907549,\n",
       "         2.74010288,  2.74010288,  2.64561657,  2.64561657,  3.96842486,\n",
       "         4.91328792,  4.06291117,  3.68496594,  3.49599333,  3.49599333,\n",
       "         3.49599333,  3.49599333,  3.49599333,  3.49599333,  3.40150702,\n",
       "         3.30702072,  3.30702072,  3.30702072,  3.30702072,  3.30702072,\n",
       "         3.30702072,  3.30702072,  2.92907549,  2.74010288,  2.55113027,\n",
       "         2.55113027,  2.45664396,  2.55113027,  2.55113027,  2.55113027,\n",
       "         2.83458919,  3.59047964,  3.40150702,  3.0235618 ,  3.59047964,\n",
       "         2.74010288,  3.96842486,  3.40150702,  4.06291117,  3.68496594,\n",
       "         3.40150702,  3.40150702,  3.30702072,  3.30702072,  3.30702072,\n",
       "         3.30702072,  3.30702072,  3.30702072,  3.30702072,  3.30702072,\n",
       "         3.30702072,  3.30702072,  3.30702072,  3.30702072,  3.30702072,\n",
       "         3.30702072,  3.30702072,  3.30702072,  3.30702072,  3.30702072,\n",
       "         3.30702072,  3.30702072,  3.30702072,  3.30702072,  3.30702072,\n",
       "         3.30702072,  3.30702072,  3.30702072,  3.30702072,  3.30702072,\n",
       "         3.30702072,  3.30702072,  3.30702072,  3.30702072,  3.30702072,\n",
       "         3.30702072,  3.30702072,  3.30702072,  3.30702072,  3.30702072,\n",
       "         3.30702072]),\n",
       " 'becke_scheme': <function pyscf.dft.gen_grid.original_becke>,\n",
       " 'coords': None,\n",
       " 'level': 3,\n",
       " 'mol': <pyscf.gto.mole.Mole at 0x7f789f891e90>,\n",
       " 'non0tab': None,\n",
       " 'prune': <function pyscf.dft.gen_grid.nwchem_prune>,\n",
       " 'radi_method': <function pyscf.dft.radi.treutler_ahlrichs>,\n",
       " 'radii_adjust': <function pyscf.dft.radi.treutler_atomic_radii_adjust>,\n",
       " 'stdout': <ipykernel.iostream.OutStream at 0x7f78d3fd29d0>,\n",
       " 'symmetry': False,\n",
       " 'verbose': 0,\n",
       " 'weights': None}"
      ]
     },
     "execution_count": 21,
     "metadata": {},
     "output_type": "execute_result"
    }
   ],
   "source": [
    "mf.grids.__dict__"
   ]
  },
  {
   "cell_type": "code",
   "execution_count": null,
   "metadata": {
    "collapsed": true
   },
   "outputs": [],
   "source": []
  },
  {
   "cell_type": "code",
   "execution_count": null,
   "metadata": {
    "collapsed": true
   },
   "outputs": [],
   "source": [
    "mf.conv_tol=1e-12\n",
    "mf.conv_tol_grad=1e-8\n",
    "mf.direct_scf_tol=1e-13\n",
    "mf.init_guess='1e'\n",
    "mf.max_cycle=100\n",
    "mf.max_memory=8000\n",
    "mf.verbose=0\n",
    "\n",
    "mf.kernel()"
   ]
  }
 ],
 "metadata": {
  "kernelspec": {
   "display_name": "Python 2",
   "language": "python",
   "name": "python2"
  },
  "language_info": {
   "codemirror_mode": {
    "name": "ipython",
    "version": 2
   },
   "file_extension": ".py",
   "mimetype": "text/x-python",
   "name": "python",
   "nbconvert_exporter": "python",
   "pygments_lexer": "ipython2",
   "version": "2.7.12"
  }
 },
 "nbformat": 4,
 "nbformat_minor": 2
}
